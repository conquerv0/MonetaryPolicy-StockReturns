{
  "cells": [
    {
      "cell_type": "markdown",
      "metadata": {
        "id": "view-in-github",
        "colab_type": "text"
      },
      "source": [
        "<a href=\"https://colab.research.google.com/github/conquerv0/MonetaryPolicy-StockReturns/blob/master/data_processing.ipynb\" target=\"_parent\"><img src=\"https://colab.research.google.com/assets/colab-badge.svg\" alt=\"Open In Colab\"/></a>"
      ]
    },
    {
      "cell_type": "code",
      "execution_count": null,
      "metadata": {
        "id": "vKR5pa4Kd8bJ"
      },
      "outputs": [],
      "source": [
        "import pandas as pd\n",
        "import numpy as np\n",
        "import matplotlib.pyplot as plt\n",
        "from statsmodels.graphics.tsaplots import plot_acf, plot_pacf\n",
        "import yfinance as yf"
      ]
    },
    {
      "cell_type": "code",
      "execution_count": null,
      "metadata": {
        "id": "g790Rk12d8bL",
        "outputId": "bd75b5b3-6973-44c2-c5a7-b8a69ce18d74"
      },
      "outputs": [
        {
          "data": {
            "text/html": [
              "<div>\n",
              "<style scoped>\n",
              "    .dataframe tbody tr th:only-of-type {\n",
              "        vertical-align: middle;\n",
              "    }\n",
              "\n",
              "    .dataframe tbody tr th {\n",
              "        vertical-align: top;\n",
              "    }\n",
              "\n",
              "    .dataframe thead th {\n",
              "        text-align: right;\n",
              "    }\n",
              "</style>\n",
              "<table border=\"1\" class=\"dataframe\">\n",
              "  <thead>\n",
              "    <tr style=\"text-align: right;\">\n",
              "      <th></th>\n",
              "      <th>Symbol</th>\n",
              "      <th>Date</th>\n",
              "      <th>Open</th>\n",
              "      <th>High</th>\n",
              "      <th>Low</th>\n",
              "      <th>FFF_Price</th>\n",
              "      <th>FFF_Change</th>\n",
              "      <th>%Chg</th>\n",
              "      <th>Volume</th>\n",
              "      <th>Open Int</th>\n",
              "      <th>MonthYear</th>\n",
              "      <th>Week</th>\n",
              "      <th>M1_ImpliedRate</th>\n",
              "    </tr>\n",
              "  </thead>\n",
              "  <tbody>\n",
              "    <tr>\n",
              "      <th>4</th>\n",
              "      <td>ZQG23</td>\n",
              "      <td>2023-02-06</td>\n",
              "      <td>95.4275</td>\n",
              "      <td>95.4325</td>\n",
              "      <td>95.4250</td>\n",
              "      <td>95.4300</td>\n",
              "      <td>0.0025</td>\n",
              "      <td>0.00%</td>\n",
              "      <td>562581.0</td>\n",
              "      <td>1627755.0</td>\n",
              "      <td>2023-02</td>\n",
              "      <td>2023-02-06</td>\n",
              "      <td>4.5700</td>\n",
              "    </tr>\n",
              "    <tr>\n",
              "      <th>3</th>\n",
              "      <td>ZQG23</td>\n",
              "      <td>2023-02-13</td>\n",
              "      <td>95.4325</td>\n",
              "      <td>95.4325</td>\n",
              "      <td>95.4275</td>\n",
              "      <td>95.4275</td>\n",
              "      <td>-0.0025</td>\n",
              "      <td>0.00%</td>\n",
              "      <td>523063.0</td>\n",
              "      <td>1715788.0</td>\n",
              "      <td>2023-02</td>\n",
              "      <td>2023-02-13</td>\n",
              "      <td>4.5725</td>\n",
              "    </tr>\n",
              "    <tr>\n",
              "      <th>2</th>\n",
              "      <td>ZQG23</td>\n",
              "      <td>2023-02-20</td>\n",
              "      <td>95.4275</td>\n",
              "      <td>95.4300</td>\n",
              "      <td>95.4275</td>\n",
              "      <td>95.4300</td>\n",
              "      <td>0.0025</td>\n",
              "      <td>0.00%</td>\n",
              "      <td>581493.0</td>\n",
              "      <td>1880126.0</td>\n",
              "      <td>2023-02</td>\n",
              "      <td>2023-02-20</td>\n",
              "      <td>4.5700</td>\n",
              "    </tr>\n",
              "    <tr>\n",
              "      <th>1</th>\n",
              "      <td>ZQG23</td>\n",
              "      <td>2023-02-27</td>\n",
              "      <td>95.4300</td>\n",
              "      <td>95.4300</td>\n",
              "      <td>95.1000</td>\n",
              "      <td>95.1150</td>\n",
              "      <td>-0.3150</td>\n",
              "      <td>-0.33%</td>\n",
              "      <td>457349.0</td>\n",
              "      <td>1679955.0</td>\n",
              "      <td>2023-02</td>\n",
              "      <td>2023-02-27</td>\n",
              "      <td>4.8850</td>\n",
              "    </tr>\n",
              "    <tr>\n",
              "      <th>0</th>\n",
              "      <td>ZQJ23</td>\n",
              "      <td>2023-03-06</td>\n",
              "      <td>95.1150</td>\n",
              "      <td>95.1250</td>\n",
              "      <td>94.9900</td>\n",
              "      <td>95.0350</td>\n",
              "      <td>-0.0800</td>\n",
              "      <td>-0.08%</td>\n",
              "      <td>649754.0</td>\n",
              "      <td>1378527.0</td>\n",
              "      <td>2023-03</td>\n",
              "      <td>2023-03-06</td>\n",
              "      <td>4.9650</td>\n",
              "    </tr>\n",
              "  </tbody>\n",
              "</table>\n",
              "</div>"
            ],
            "text/plain": [
              "  Symbol       Date     Open     High      Low  FFF_Price  FFF_Change    %Chg  \\\n",
              "4  ZQG23 2023-02-06  95.4275  95.4325  95.4250    95.4300      0.0025   0.00%   \n",
              "3  ZQG23 2023-02-13  95.4325  95.4325  95.4275    95.4275     -0.0025   0.00%   \n",
              "2  ZQG23 2023-02-20  95.4275  95.4300  95.4275    95.4300      0.0025   0.00%   \n",
              "1  ZQG23 2023-02-27  95.4300  95.4300  95.1000    95.1150     -0.3150  -0.33%   \n",
              "0  ZQJ23 2023-03-06  95.1150  95.1250  94.9900    95.0350     -0.0800  -0.08%   \n",
              "\n",
              "     Volume   Open Int MonthYear       Week  M1_ImpliedRate  \n",
              "4  562581.0  1627755.0   2023-02 2023-02-06          4.5700  \n",
              "3  523063.0  1715788.0   2023-02 2023-02-13          4.5725  \n",
              "2  581493.0  1880126.0   2023-02 2023-02-20          4.5700  \n",
              "1  457349.0  1679955.0   2023-02 2023-02-27          4.8850  \n",
              "0  649754.0  1378527.0   2023-03 2023-03-06          4.9650  "
            ]
          },
          "execution_count": 79,
          "metadata": {},
          "output_type": "execute_result"
        }
      ],
      "source": [
        "federal_fund = pd.read_csv('data/federal_fund_future_weekly.csv')\n",
        "\n",
        "# Reformatting federal fund future date time variable to month-year\n",
        "federal_fund = federal_fund.rename(columns={'Time':'Date', 'Last': 'FFF_Price', 'Change':'FFF_Change'})\n",
        "federal_fund['Date'] = pd.to_datetime(federal_fund ['Date'])\n",
        "federal_fund.sort_values(by='Date', ascending=True, inplace=True)\n",
        "federal_fund['MonthYear'] = federal_fund['Date'].dt.to_period('M')\n",
        "federal_fund['Week'] = federal_fund['Date'].dt.to_period('W').dt.start_time\n",
        "\n",
        "# Calculate monthly change for the 30-day federal fund future.\n",
        "# federal_fund['WeeklyChange'] = ((federal_fund['FFF_Price'] / federal_fund['FFF_Price'].shift(1)) -1)*100\n",
        "federal_fund['M1_ImpliedRate'] = 100 - federal_fund['FFF_Price']\n",
        "\n",
        "# Drop NA\n",
        "federal_fund.dropna(axis=0, inplace=True)\n",
        "\n",
        "federal_fund.tail()"
      ]
    },
    {
      "cell_type": "code",
      "execution_count": null,
      "metadata": {
        "id": "64UfNOtud8bM",
        "outputId": "23405593-676c-4331-a3c3-09c2faaa6df3"
      },
      "outputs": [
        {
          "name": "stdout",
          "output_type": "stream",
          "text": [
            "[*********************100%***********************]  1 of 1 completed\n"
          ]
        },
        {
          "data": {
            "text/html": [
              "<div>\n",
              "<style scoped>\n",
              "    .dataframe tbody tr th:only-of-type {\n",
              "        vertical-align: middle;\n",
              "    }\n",
              "\n",
              "    .dataframe tbody tr th {\n",
              "        vertical-align: top;\n",
              "    }\n",
              "\n",
              "    .dataframe thead th {\n",
              "        text-align: right;\n",
              "    }\n",
              "</style>\n",
              "<table border=\"1\" class=\"dataframe\">\n",
              "  <thead>\n",
              "    <tr style=\"text-align: right;\">\n",
              "      <th></th>\n",
              "      <th>Open</th>\n",
              "      <th>High</th>\n",
              "      <th>Low</th>\n",
              "      <th>Close</th>\n",
              "      <th>Adj Close</th>\n",
              "      <th>Volume</th>\n",
              "      <th>WeeklyReturn</th>\n",
              "      <th>Date</th>\n",
              "      <th>MonthYear</th>\n",
              "      <th>Week</th>\n",
              "    </tr>\n",
              "    <tr>\n",
              "      <th>Index</th>\n",
              "      <th></th>\n",
              "      <th></th>\n",
              "      <th></th>\n",
              "      <th></th>\n",
              "      <th></th>\n",
              "      <th></th>\n",
              "      <th></th>\n",
              "      <th></th>\n",
              "      <th></th>\n",
              "      <th></th>\n",
              "    </tr>\n",
              "  </thead>\n",
              "  <tbody>\n",
              "    <tr>\n",
              "      <th>892</th>\n",
              "      <td>409.790009</td>\n",
              "      <td>416.489990</td>\n",
              "      <td>405.010010</td>\n",
              "      <td>408.040009</td>\n",
              "      <td>408.040009</td>\n",
              "      <td>376978100.0</td>\n",
              "      <td>-0.010452</td>\n",
              "      <td>2023-02-05</td>\n",
              "      <td>2023-02</td>\n",
              "      <td>2023-01-30</td>\n",
              "    </tr>\n",
              "    <tr>\n",
              "      <th>893</th>\n",
              "      <td>408.720001</td>\n",
              "      <td>415.049988</td>\n",
              "      <td>404.049988</td>\n",
              "      <td>407.260010</td>\n",
              "      <td>407.260010</td>\n",
              "      <td>380547800.0</td>\n",
              "      <td>-0.001912</td>\n",
              "      <td>2023-02-12</td>\n",
              "      <td>2023-02</td>\n",
              "      <td>2023-02-06</td>\n",
              "    </tr>\n",
              "    <tr>\n",
              "      <th>894</th>\n",
              "      <td>403.059998</td>\n",
              "      <td>404.160004</td>\n",
              "      <td>393.640015</td>\n",
              "      <td>396.380005</td>\n",
              "      <td>396.380005</td>\n",
              "      <td>370835000.0</td>\n",
              "      <td>-0.026715</td>\n",
              "      <td>2023-02-19</td>\n",
              "      <td>2023-02</td>\n",
              "      <td>2023-02-13</td>\n",
              "    </tr>\n",
              "    <tr>\n",
              "      <th>895</th>\n",
              "      <td>399.869995</td>\n",
              "      <td>404.450012</td>\n",
              "      <td>392.329987</td>\n",
              "      <td>404.190002</td>\n",
              "      <td>404.190002</td>\n",
              "      <td>451756200.0</td>\n",
              "      <td>0.019703</td>\n",
              "      <td>2023-02-26</td>\n",
              "      <td>2023-02</td>\n",
              "      <td>2023-02-20</td>\n",
              "    </tr>\n",
              "    <tr>\n",
              "      <th>896</th>\n",
              "      <td>405.049988</td>\n",
              "      <td>407.450012</td>\n",
              "      <td>396.589996</td>\n",
              "      <td>398.920013</td>\n",
              "      <td>398.920013</td>\n",
              "      <td>255853100.0</td>\n",
              "      <td>-0.013038</td>\n",
              "      <td>2023-03-05</td>\n",
              "      <td>2023-03</td>\n",
              "      <td>2023-02-27</td>\n",
              "    </tr>\n",
              "  </tbody>\n",
              "</table>\n",
              "</div>"
            ],
            "text/plain": [
              "             Open        High         Low       Close   Adj Close  \\\n",
              "Index                                                               \n",
              "892    409.790009  416.489990  405.010010  408.040009  408.040009   \n",
              "893    408.720001  415.049988  404.049988  407.260010  407.260010   \n",
              "894    403.059998  404.160004  393.640015  396.380005  396.380005   \n",
              "895    399.869995  404.450012  392.329987  404.190002  404.190002   \n",
              "896    405.049988  407.450012  396.589996  398.920013  398.920013   \n",
              "\n",
              "            Volume  WeeklyReturn       Date MonthYear       Week  \n",
              "Index                                                             \n",
              "892    376978100.0     -0.010452 2023-02-05   2023-02 2023-01-30  \n",
              "893    380547800.0     -0.001912 2023-02-12   2023-02 2023-02-06  \n",
              "894    370835000.0     -0.026715 2023-02-19   2023-02 2023-02-13  \n",
              "895    451756200.0      0.019703 2023-02-26   2023-02 2023-02-20  \n",
              "896    255853100.0     -0.013038 2023-03-05   2023-03 2023-02-27  "
            ]
          },
          "execution_count": 81,
          "metadata": {},
          "output_type": "execute_result"
        }
      ],
      "source": [
        "# Download data from yfinance API\n",
        "spy = yf.download(tickers='SPY', start='2006-01-01', end='2023-3-8', interval='1wk')\n",
        "\n",
        "# Calculate monthly return for the index\n",
        "spy['WeeklyReturn'] = (spy['Close'] / spy['Close'].shift(1)) -1\n",
        "\n",
        "# Reformat time period\n",
        "spy['Date'] = pd.to_datetime(spy.index)\n",
        "spy['MonthYear'] = spy['Date'].dt.to_period('M')\n",
        "spy['Week'] = spy['Date'].dt.to_period('W').dt.start_time\n",
        "spy = spy.assign(Index=range(len(spy))).set_index('Index')\n",
        "\n",
        "# Drop NA\n",
        "spy.dropna(axis=0, inplace=True)\n",
        "\n",
        "spy.tail()"
      ]
    },
    {
      "cell_type": "code",
      "execution_count": null,
      "metadata": {
        "id": "8VGzZyTZd8bM",
        "outputId": "af205032-3c2b-4296-dc62-b531fa991773"
      },
      "outputs": [
        {
          "data": {
            "text/html": [
              "<div>\n",
              "<style scoped>\n",
              "    .dataframe tbody tr th:only-of-type {\n",
              "        vertical-align: middle;\n",
              "    }\n",
              "\n",
              "    .dataframe tbody tr th {\n",
              "        vertical-align: top;\n",
              "    }\n",
              "\n",
              "    .dataframe thead th {\n",
              "        text-align: right;\n",
              "    }\n",
              "</style>\n",
              "<table border=\"1\" class=\"dataframe\">\n",
              "  <thead>\n",
              "    <tr style=\"text-align: right;\">\n",
              "      <th></th>\n",
              "      <th>Week</th>\n",
              "      <th>WeeklyReturn</th>\n",
              "      <th>Close</th>\n",
              "      <th>FFF_Price</th>\n",
              "      <th>FFF_Change</th>\n",
              "      <th>%Chg</th>\n",
              "      <th>M1_ImpliedRate</th>\n",
              "    </tr>\n",
              "  </thead>\n",
              "  <tbody>\n",
              "    <tr>\n",
              "      <th>0</th>\n",
              "      <td>2006-01-02</td>\n",
              "      <td>0.001869</td>\n",
              "      <td>128.679993</td>\n",
              "      <td>95.515</td>\n",
              "      <td>-0.015</td>\n",
              "      <td>-0.02%</td>\n",
              "      <td>4.485</td>\n",
              "    </tr>\n",
              "    <tr>\n",
              "      <th>1</th>\n",
              "      <td>2006-01-09</td>\n",
              "      <td>-0.021060</td>\n",
              "      <td>125.970001</td>\n",
              "      <td>95.510</td>\n",
              "      <td>-0.005</td>\n",
              "      <td>-0.01%</td>\n",
              "      <td>4.490</td>\n",
              "    </tr>\n",
              "    <tr>\n",
              "      <th>2</th>\n",
              "      <td>2006-01-16</td>\n",
              "      <td>0.020402</td>\n",
              "      <td>128.539993</td>\n",
              "      <td>95.510</td>\n",
              "      <td>0.000</td>\n",
              "      <td>0.00%</td>\n",
              "      <td>4.490</td>\n",
              "    </tr>\n",
              "    <tr>\n",
              "      <th>3</th>\n",
              "      <td>2006-01-23</td>\n",
              "      <td>-0.017660</td>\n",
              "      <td>126.269997</td>\n",
              "      <td>95.505</td>\n",
              "      <td>-0.005</td>\n",
              "      <td>-0.01%</td>\n",
              "      <td>4.495</td>\n",
              "    </tr>\n",
              "    <tr>\n",
              "      <th>4</th>\n",
              "      <td>2006-01-30</td>\n",
              "      <td>0.002930</td>\n",
              "      <td>126.639999</td>\n",
              "      <td>95.500</td>\n",
              "      <td>-0.005</td>\n",
              "      <td>-0.01%</td>\n",
              "      <td>4.500</td>\n",
              "    </tr>\n",
              "  </tbody>\n",
              "</table>\n",
              "</div>"
            ],
            "text/plain": [
              "         Week  WeeklyReturn       Close  FFF_Price  FFF_Change    %Chg  \\\n",
              "0  2006-01-02      0.001869  128.679993     95.515      -0.015  -0.02%   \n",
              "1  2006-01-09     -0.021060  125.970001     95.510      -0.005  -0.01%   \n",
              "2  2006-01-16      0.020402  128.539993     95.510       0.000   0.00%   \n",
              "3  2006-01-23     -0.017660  126.269997     95.505      -0.005  -0.01%   \n",
              "4  2006-01-30      0.002930  126.639999     95.500      -0.005  -0.01%   \n",
              "\n",
              "   M1_ImpliedRate  \n",
              "0           4.485  \n",
              "1           4.490  \n",
              "2           4.490  \n",
              "3           4.495  \n",
              "4           4.500  "
            ]
          },
          "execution_count": 86,
          "metadata": {},
          "output_type": "execute_result"
        }
      ],
      "source": [
        "fed_spy_data = pd.merge(spy, federal_fund, on=['Week'])\n",
        "fed_spy_data['Week'] = fed_spy_data['Week'].astype(str)\n",
        "selected_columns = ['Week', 'WeeklyReturn', 'Close', 'FFF_Price', 'FFF_Change', '%Chg', 'M1_ImpliedRate']\n",
        "fed_spy_data = fed_spy_data[selected_columns]\n",
        "# data.drop(columns='Open', 'High','Low')\n",
        "fed_spy_data.head()"
      ]
    },
    {
      "cell_type": "code",
      "execution_count": null,
      "metadata": {
        "id": "gGx5G3Mbd8bN",
        "outputId": "0744fb43-f27b-4e9b-9f42-163d3453b1db"
      },
      "outputs": [
        {
          "data": {
            "image/png": "[encoded data removed]",
            "text/plain": [
              "<Figure size 432x288 with 1 Axes>"
            ]
          },
          "metadata": {
            "needs_background": "light"
          },
          "output_type": "display_data"
        }
      ],
      "source": [
        "# Create figure and plot space\n",
        "plt.plot(fed_spy_data.Week,fed_spy_data.FFF_Price)\n",
        "\n",
        "\n",
        "plt.title('Federal Fund Future Price, 2006-2023')\n",
        "plt.xlabel('Week')\n",
        "plt.ylabel('Federal Fund Future Price')\n",
        "# plot.figsize((10,6))\n",
        "plt.savefig('fff_price.png')"
      ]
    },
    {
      "cell_type": "code",
      "execution_count": null,
      "metadata": {
        "id": "xAbyySULd8bN",
        "outputId": "fe586d7d-4456-406a-bfe9-c7d435011510"
      },
      "outputs": [
        {
          "name": "stderr",
          "output_type": "stream",
          "text": [
            "c:\\ProgramData\\Anaconda3\\lib\\site-packages\\pandas\\io\\stata.py:2397: InvalidColumnName: \n",
            "Not all pandas column names were valid Stata variable names.\n",
            "The following replacements have been made:\n",
            "\n",
            "    %Chg   ->   _Chg\n",
            "\n",
            "If this is not what you expect, please make sure you have Stata-compliant\n",
            "column names in your DataFrame (strings only, max 32 characters, only\n",
            "alphanumerics and underscores, no Stata reserved words)\n",
            "\n",
            "  warnings.warn(ws, InvalidColumnName)\n"
          ]
        }
      ],
      "source": [
        "fed_spy_data.to_stata('data/fed_spy_data.dta')"
      ]
    },
    {
      "cell_type": "code",
      "execution_count": null,
      "metadata": {
        "id": "z1e5_t88d8bN",
        "outputId": "42cd7702-8eb7-4e67-f604-9826f55776c1"
      },
      "outputs": [
        {
          "data": {
            "image/png": "[encoded data removed]",
            "text/plain": [
              "<Figure size 432x288 with 1 Axes>"
            ]
          },
          "execution_count": 38,
          "metadata": {},
          "output_type": "execute_result"
        },
        {
          "data": {
            "image/png": "[encoded data removed]",
            "text/plain": [
              "<Figure size 432x288 with 1 Axes>"
            ]
          },
          "metadata": {
            "needs_background": "light"
          },
          "output_type": "display_data"
        }
      ],
      "source": [
        "plot_acf(fed_spy_data.MonthlyChange, lags = 2) "
      ]
    },
    {
      "cell_type": "code",
      "execution_count": null,
      "metadata": {
        "id": "M-pwodRXd8bO"
      },
      "outputs": [],
      "source": []
    }
  ],
  "metadata": {
    "kernelspec": {
      "display_name": "base",
      "language": "python",
      "name": "python3"
    },
    "language_info": {
      "codemirror_mode": {
        "name": "ipython",
        "version": 3
      },
      "file_extension": ".py",
      "mimetype": "text/x-python",
      "name": "python",
      "nbconvert_exporter": "python",
      "pygments_lexer": "ipython3",
      "version": "3.9.7"
    },
    "orig_nbformat": 4,
    "vscode": {
      "interpreter": {
        "hash": "ad2bdc8ecc057115af97d19610ffacc2b4e99fae6737bb82f5d7fb13d2f2c186"
      }
    },
    "colab": {
      "provenance": [],
      "include_colab_link": true
    }
  },
  "nbformat": 4,
  "nbformat_minor": 0
}